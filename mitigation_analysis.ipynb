{
 "cells": [
  {
   "cell_type": "markdown",
   "metadata": {},
   "source": [
    "Import libraries"
   ]
  },
  {
   "cell_type": "code",
   "execution_count": 13,
   "metadata": {},
   "outputs": [
    {
     "name": "stdout",
     "output_type": "stream",
     "text": [
      "WARNING: pip is being invoked by an old script wrapper. This will fail in a future version of pip.\n",
      "Please see https://github.com/pypa/pip/issues/5599 for advice on fixing the underlying issue.\n",
      "To avoid this problem you can invoke Python with '-m pip' instead of running pip directly.\n",
      "Requirement already satisfied: pandas in /usr/local/lib/python3.6/dist-packages (1.1.5)\n",
      "Requirement already satisfied: numpy>=1.15.4 in /usr/local/lib/python3.6/dist-packages (from pandas) (1.19.5)\n",
      "Requirement already satisfied: python-dateutil>=2.7.3 in /usr/local/lib/python3.6/dist-packages (from pandas) (2.8.2)\n",
      "Requirement already satisfied: pytz>=2017.2 in /usr/local/lib/python3.6/dist-packages (from pandas) (2021.3)\n",
      "Requirement already satisfied: six>=1.5 in /usr/lib/python3/dist-packages (from python-dateutil>=2.7.3->pandas) (1.11.0)\n",
      "\u001b[33mWARNING: Running pip as the 'root' user can result in broken permissions and conflicting behaviour with the system package manager. It is recommended to use a virtual environment instead: https://pip.pypa.io/warnings/venv\u001b[0m\n",
      "WARNING: pip is being invoked by an old script wrapper. This will fail in a future version of pip.\n",
      "Please see https://github.com/pypa/pip/issues/5599 for advice on fixing the underlying issue.\n",
      "To avoid this problem you can invoke Python with '-m pip' instead of running pip directly.\n",
      "Requirement already satisfied: scipy in /usr/local/lib/python3.6/dist-packages (1.5.4)\n",
      "Requirement already satisfied: numpy>=1.14.5 in /usr/local/lib/python3.6/dist-packages (from scipy) (1.19.5)\n",
      "\u001b[33mWARNING: Running pip as the 'root' user can result in broken permissions and conflicting behaviour with the system package manager. It is recommended to use a virtual environment instead: https://pip.pypa.io/warnings/venv\u001b[0m\n",
      "WARNING: pip is being invoked by an old script wrapper. This will fail in a future version of pip.\n",
      "Please see https://github.com/pypa/pip/issues/5599 for advice on fixing the underlying issue.\n",
      "To avoid this problem you can invoke Python with '-m pip' instead of running pip directly.\n",
      "Requirement already satisfied: seaborn in /usr/local/lib/python3.6/dist-packages (0.11.2)\n",
      "Requirement already satisfied: scipy>=1.0 in /usr/local/lib/python3.6/dist-packages (from seaborn) (1.5.4)\n",
      "Requirement already satisfied: matplotlib>=2.2 in /usr/local/lib/python3.6/dist-packages (from seaborn) (3.3.4)\n",
      "Requirement already satisfied: pandas>=0.23 in /usr/local/lib/python3.6/dist-packages (from seaborn) (1.1.5)\n",
      "Requirement already satisfied: numpy>=1.15 in /usr/local/lib/python3.6/dist-packages (from seaborn) (1.19.5)\n",
      "Requirement already satisfied: python-dateutil>=2.1 in /usr/local/lib/python3.6/dist-packages (from matplotlib>=2.2->seaborn) (2.8.2)\n",
      "Requirement already satisfied: pillow>=6.2.0 in /usr/local/lib/python3.6/dist-packages (from matplotlib>=2.2->seaborn) (8.4.0)\n",
      "Requirement already satisfied: pyparsing!=2.0.4,!=2.1.2,!=2.1.6,>=2.0.3 in /usr/local/lib/python3.6/dist-packages (from matplotlib>=2.2->seaborn) (3.0.4)\n",
      "Requirement already satisfied: cycler>=0.10 in /usr/local/lib/python3.6/dist-packages (from matplotlib>=2.2->seaborn) (0.11.0)\n",
      "Requirement already satisfied: kiwisolver>=1.0.1 in /usr/local/lib/python3.6/dist-packages (from matplotlib>=2.2->seaborn) (1.3.1)\n",
      "Requirement already satisfied: pytz>=2017.2 in /usr/local/lib/python3.6/dist-packages (from pandas>=0.23->seaborn) (2021.3)\n",
      "Requirement already satisfied: six>=1.5 in /usr/lib/python3/dist-packages (from python-dateutil>=2.1->matplotlib>=2.2->seaborn) (1.11.0)\n",
      "\u001b[33mWARNING: Running pip as the 'root' user can result in broken permissions and conflicting behaviour with the system package manager. It is recommended to use a virtual environment instead: https://pip.pypa.io/warnings/venv\u001b[0m\n"
     ]
    }
   ],
   "source": [
    "# Import libraries if required.\n",
    "!pip3 install --upgrade pip\n",
    "!pip3 install pandas\n",
    "!pip3 install scipy\n",
    "!pip3 install seaborn"
   ]
  },
  {
   "cell_type": "code",
   "execution_count": 14,
   "metadata": {},
   "outputs": [],
   "source": [
    "import pandas as pd\n",
    "import seaborn as sns\n",
    "from scipy import stats"
   ]
  },
  {
   "cell_type": "markdown",
   "metadata": {},
   "source": [
    "all helper functions for data cleaning"
   ]
  },
  {
   "cell_type": "code",
   "execution_count": 47,
   "metadata": {},
   "outputs": [],
   "source": [
    "# to convert a value to any other value with a default specification\n",
    "def tryconvert(value, default, *types):\n",
    "    for t in types:\n",
    "        try:\n",
    "            return t(value)\n",
    "        except (ValueError, TypeError):\n",
    "            continue\n",
    "    return default\n",
    "\n"
   ]
  },
  {
   "cell_type": "markdown",
   "metadata": {},
   "source": [
    "Load and process mitigation data"
   ]
  },
  {
   "cell_type": "code",
   "execution_count": 53,
   "metadata": {},
   "outputs": [
    {
     "data": {
      "text/html": [
       "<div>\n",
       "<style scoped>\n",
       "    .dataframe tbody tr th:only-of-type {\n",
       "        vertical-align: middle;\n",
       "    }\n",
       "\n",
       "    .dataframe tbody tr th {\n",
       "        vertical-align: top;\n",
       "    }\n",
       "\n",
       "    .dataframe thead th {\n",
       "        text-align: right;\n",
       "    }\n",
       "</style>\n",
       "<table border=\"1\" class=\"dataframe\">\n",
       "  <thead>\n",
       "    <tr style=\"text-align: right;\">\n",
       "      <th></th>\n",
       "      <th>disasterNumber</th>\n",
       "      <th>region</th>\n",
       "      <th>stateNumberCode</th>\n",
       "      <th>state</th>\n",
       "      <th>countyCode</th>\n",
       "      <th>county</th>\n",
       "      <th>city</th>\n",
       "      <th>zip</th>\n",
       "      <th>projectIdentifier</th>\n",
       "      <th>propertyAction</th>\n",
       "      <th>...</th>\n",
       "      <th>subgranteeTribalIndicator</th>\n",
       "      <th>id</th>\n",
       "      <th>projectType</th>\n",
       "      <th>projectTitle</th>\n",
       "      <th>numberOfProperties_y</th>\n",
       "      <th>numberOfFinalProperties</th>\n",
       "      <th>costSharePercentage</th>\n",
       "      <th>projectAmount</th>\n",
       "      <th>benefitCostRatio</th>\n",
       "      <th>netValueBenefits</th>\n",
       "    </tr>\n",
       "  </thead>\n",
       "  <tbody>\n",
       "    <tr>\n",
       "      <th>0</th>\n",
       "      <td>1604.0</td>\n",
       "      <td>4.0</td>\n",
       "      <td>28.0</td>\n",
       "      <td>Mississippi</td>\n",
       "      <td>27.0</td>\n",
       "      <td>Coahoma</td>\n",
       "      <td>ALLIGATOR</td>\n",
       "      <td>38720</td>\n",
       "      <td>DR-1604-0002-R</td>\n",
       "      <td>Safe Room/Wind Shelter</td>\n",
       "      <td>...</td>\n",
       "      <td>No</td>\n",
       "      <td>6176dfd34f1519431d0550bf</td>\n",
       "      <td>206.1: Safe Room (Tornado and Severe Wind Shel...</td>\n",
       "      <td>NaN</td>\n",
       "      <td>8043</td>\n",
       "      <td>8043</td>\n",
       "      <td>1.0</td>\n",
       "      <td>20069278.0</td>\n",
       "      <td>0.0</td>\n",
       "      <td>0.0</td>\n",
       "    </tr>\n",
       "    <tr>\n",
       "      <th>1</th>\n",
       "      <td>1604.0</td>\n",
       "      <td>4.0</td>\n",
       "      <td>28.0</td>\n",
       "      <td>Mississippi</td>\n",
       "      <td>115.0</td>\n",
       "      <td>Pontotoc</td>\n",
       "      <td>PONTOTOC</td>\n",
       "      <td>38863</td>\n",
       "      <td>DR-1604-0002-R</td>\n",
       "      <td>Safe Room/Wind Shelter</td>\n",
       "      <td>...</td>\n",
       "      <td>No</td>\n",
       "      <td>6176dfd34f1519431d0550c5</td>\n",
       "      <td>206.1: Safe Room (Tornado and Severe Wind Shel...</td>\n",
       "      <td>NaN</td>\n",
       "      <td>8043</td>\n",
       "      <td>8043</td>\n",
       "      <td>1.0</td>\n",
       "      <td>20069278.0</td>\n",
       "      <td>0.0</td>\n",
       "      <td>0.0</td>\n",
       "    </tr>\n",
       "    <tr>\n",
       "      <th>2</th>\n",
       "      <td>1604.0</td>\n",
       "      <td>4.0</td>\n",
       "      <td>28.0</td>\n",
       "      <td>Mississippi</td>\n",
       "      <td>57.0</td>\n",
       "      <td>Itawamba</td>\n",
       "      <td>GOLDEN</td>\n",
       "      <td>38847</td>\n",
       "      <td>DR-1604-0002-R</td>\n",
       "      <td>Safe Room/Wind Shelter</td>\n",
       "      <td>...</td>\n",
       "      <td>No</td>\n",
       "      <td>6176dfd34f1519431d0550d8</td>\n",
       "      <td>206.1: Safe Room (Tornado and Severe Wind Shel...</td>\n",
       "      <td>NaN</td>\n",
       "      <td>8043</td>\n",
       "      <td>8043</td>\n",
       "      <td>1.0</td>\n",
       "      <td>20069278.0</td>\n",
       "      <td>0.0</td>\n",
       "      <td>0.0</td>\n",
       "    </tr>\n",
       "    <tr>\n",
       "      <th>3</th>\n",
       "      <td>1604.0</td>\n",
       "      <td>4.0</td>\n",
       "      <td>28.0</td>\n",
       "      <td>Mississippi</td>\n",
       "      <td>29.0</td>\n",
       "      <td>Copiah</td>\n",
       "      <td>WEST</td>\n",
       "      <td>39192</td>\n",
       "      <td>DR-1604-0002-R</td>\n",
       "      <td>Safe Room/Wind Shelter</td>\n",
       "      <td>...</td>\n",
       "      <td>No</td>\n",
       "      <td>6176dfd34f1519431d0550f6</td>\n",
       "      <td>206.1: Safe Room (Tornado and Severe Wind Shel...</td>\n",
       "      <td>NaN</td>\n",
       "      <td>8043</td>\n",
       "      <td>8043</td>\n",
       "      <td>1.0</td>\n",
       "      <td>20069278.0</td>\n",
       "      <td>0.0</td>\n",
       "      <td>0.0</td>\n",
       "    </tr>\n",
       "    <tr>\n",
       "      <th>4</th>\n",
       "      <td>1604.0</td>\n",
       "      <td>4.0</td>\n",
       "      <td>28.0</td>\n",
       "      <td>Mississippi</td>\n",
       "      <td>115.0</td>\n",
       "      <td>Pontotoc</td>\n",
       "      <td>ECRU</td>\n",
       "      <td>38841</td>\n",
       "      <td>DR-1604-0002-R</td>\n",
       "      <td>Safe Room/Wind Shelter</td>\n",
       "      <td>...</td>\n",
       "      <td>No</td>\n",
       "      <td>6176dfd34f1519431d05510b</td>\n",
       "      <td>206.1: Safe Room (Tornado and Severe Wind Shel...</td>\n",
       "      <td>NaN</td>\n",
       "      <td>8043</td>\n",
       "      <td>8043</td>\n",
       "      <td>1.0</td>\n",
       "      <td>20069278.0</td>\n",
       "      <td>0.0</td>\n",
       "      <td>0.0</td>\n",
       "    </tr>\n",
       "  </tbody>\n",
       "</table>\n",
       "<p>5 rows × 35 columns</p>\n",
       "</div>"
      ],
      "text/plain": [
       "   disasterNumber  region  stateNumberCode        state  countyCode    county  \\\n",
       "0          1604.0     4.0             28.0  Mississippi        27.0   Coahoma   \n",
       "1          1604.0     4.0             28.0  Mississippi       115.0  Pontotoc   \n",
       "2          1604.0     4.0             28.0  Mississippi        57.0  Itawamba   \n",
       "3          1604.0     4.0             28.0  Mississippi        29.0    Copiah   \n",
       "4          1604.0     4.0             28.0  Mississippi       115.0  Pontotoc   \n",
       "\n",
       "        city    zip projectIdentifier          propertyAction  ...  \\\n",
       "0  ALLIGATOR  38720    DR-1604-0002-R  Safe Room/Wind Shelter  ...   \n",
       "1   PONTOTOC  38863    DR-1604-0002-R  Safe Room/Wind Shelter  ...   \n",
       "2    GOLDEN   38847    DR-1604-0002-R  Safe Room/Wind Shelter  ...   \n",
       "3       WEST  39192    DR-1604-0002-R  Safe Room/Wind Shelter  ...   \n",
       "4       ECRU  38841    DR-1604-0002-R  Safe Room/Wind Shelter  ...   \n",
       "\n",
       "  subgranteeTribalIndicator                        id  \\\n",
       "0                        No  6176dfd34f1519431d0550bf   \n",
       "1                        No  6176dfd34f1519431d0550c5   \n",
       "2                        No  6176dfd34f1519431d0550d8   \n",
       "3                        No  6176dfd34f1519431d0550f6   \n",
       "4                        No  6176dfd34f1519431d05510b   \n",
       "\n",
       "                                         projectType  projectTitle  \\\n",
       "0  206.1: Safe Room (Tornado and Severe Wind Shel...           NaN   \n",
       "1  206.1: Safe Room (Tornado and Severe Wind Shel...           NaN   \n",
       "2  206.1: Safe Room (Tornado and Severe Wind Shel...           NaN   \n",
       "3  206.1: Safe Room (Tornado and Severe Wind Shel...           NaN   \n",
       "4  206.1: Safe Room (Tornado and Severe Wind Shel...           NaN   \n",
       "\n",
       "   numberOfProperties_y  numberOfFinalProperties  costSharePercentage  \\\n",
       "0                  8043                     8043                  1.0   \n",
       "1                  8043                     8043                  1.0   \n",
       "2                  8043                     8043                  1.0   \n",
       "3                  8043                     8043                  1.0   \n",
       "4                  8043                     8043                  1.0   \n",
       "\n",
       "  projectAmount benefitCostRatio  netValueBenefits  \n",
       "0    20069278.0              0.0               0.0  \n",
       "1    20069278.0              0.0               0.0  \n",
       "2    20069278.0              0.0               0.0  \n",
       "3    20069278.0              0.0               0.0  \n",
       "4    20069278.0              0.0               0.0  \n",
       "\n",
       "[5 rows x 35 columns]"
      ]
     },
     "execution_count": 53,
     "metadata": {},
     "output_type": "execute_result"
    }
   ],
   "source": [
    "#https://www.fema.gov/openfema-data-page/hazard-mitigation-assistance-mitigated-properties-v2\n",
    "#https://www.fema.gov/openfema-data-page/hazard-mitigation-assistance-projects-v2\n",
    "mitigated_property = pd.read_csv(\"HazardMitigationAssistanceMitigatedProperties.csv\", sep = ',')\n",
    "mitigated_project = pd.read_csv(\"HazardMitigationAssistanceProjects.csv\", sep = ',')\n",
    "\n",
    "#select important columns\n",
    "mitigated_project = mitigated_project[['projectIdentifier', 'projectType', 'projectTitle', 'numberOfProperties', 'numberOfFinalProperties', 'costSharePercentage', 'projectAmount','benefitCostRatio', 'netValueBenefits']]\n",
    "\n",
    "#join data sets on project identifier\n",
    "mitigation_data = mitigated_property.merge(mitigated_project, how = 'inner', on = 'projectIdentifier')\n",
    "\n",
    "# filtering invalid zip codes\n",
    "mitigation_data= mitigation_data[mitigation_data['zip'].apply(lambda x: str(x).isdigit())]\n",
    "\n",
    "# convert datatypes\n",
    "mitigation_data = mitigation_data.astype({'zip': 'int64'})\n",
    "\n",
    "mitigation_data.head()"
   ]
  },
  {
   "cell_type": "code",
   "execution_count": 54,
   "metadata": {},
   "outputs": [
    {
     "data": {
      "text/plain": [
       "disasterNumber               float64\n",
       "region                       float64\n",
       "stateNumberCode              float64\n",
       "state                         object\n",
       "countyCode                   float64\n",
       "county                        object\n",
       "city                          object\n",
       "zip                            int64\n",
       "projectIdentifier             object\n",
       "propertyAction                object\n",
       "structureType                 object\n",
       "typeOfResidency               object\n",
       "actualAmountPaid             float64\n",
       "programFy                      int64\n",
       "dateInitiallyApproved        float64\n",
       "dateApproved                 float64\n",
       "dateClosed                   float64\n",
       "status                        object\n",
       "programArea                   object\n",
       "title                        float64\n",
       "type                          object\n",
       "numberOfProperties_x           int64\n",
       "numberOfRecords              float64\n",
       "damageCategory                object\n",
       "granteeTribalIndicator        object\n",
       "subgranteeTribalIndicator     object\n",
       "id                            object\n",
       "projectType                   object\n",
       "projectTitle                 float64\n",
       "numberOfProperties_y           int64\n",
       "numberOfFinalProperties        int64\n",
       "costSharePercentage          float64\n",
       "projectAmount                float64\n",
       "benefitCostRatio             float64\n",
       "netValueBenefits             float64\n",
       "dtype: object"
      ]
     },
     "execution_count": 54,
     "metadata": {},
     "output_type": "execute_result"
    }
   ],
   "source": [
    "# printing mitigation data schema\n",
    "mitigation_data.dtypes"
   ]
  },
  {
   "cell_type": "code",
   "execution_count": 55,
   "metadata": {},
   "outputs": [
    {
     "name": "stdout",
     "output_type": "stream",
     "text": [
      "number of rows: 64326\n",
      "number of cols: 35\n"
     ]
    }
   ],
   "source": [
    "# printing metrics for mitigation data\n",
    "print(\"number of rows: \" + str(mitigation_data.shape[0]))\n",
    "print(\"number of cols: \" + str(mitigation_data.shape[1]))"
   ]
  },
  {
   "cell_type": "markdown",
   "metadata": {},
   "source": [
    "Load and process flood data"
   ]
  },
  {
   "cell_type": "code",
   "execution_count": 29,
   "metadata": {},
   "outputs": [
    {
     "data": {
      "text/html": [
       "<div>\n",
       "<style scoped>\n",
       "    .dataframe tbody tr th:only-of-type {\n",
       "        vertical-align: middle;\n",
       "    }\n",
       "\n",
       "    .dataframe tbody tr th {\n",
       "        vertical-align: top;\n",
       "    }\n",
       "\n",
       "    .dataframe thead th {\n",
       "        text-align: right;\n",
       "    }\n",
       "</style>\n",
       "<table border=\"1\" class=\"dataframe\">\n",
       "  <thead>\n",
       "    <tr style=\"text-align: right;\">\n",
       "      <th></th>\n",
       "      <th>id</th>\n",
       "      <th>zip</th>\n",
       "      <th>pct_water</th>\n",
       "      <th>count_property</th>\n",
       "      <th>pct_fs_risk_2020_5</th>\n",
       "      <th>pct_fs_risk_2050_5</th>\n",
       "      <th>pct_fs_risk_2020_100</th>\n",
       "      <th>pct_fs_risk_2050_100</th>\n",
       "      <th>pct_fs_risk_2020_500</th>\n",
       "      <th>pct_fs_risk_2050_500</th>\n",
       "      <th>...</th>\n",
       "      <th>region</th>\n",
       "      <th>region_code</th>\n",
       "      <th>region2</th>\n",
       "      <th>region2_code</th>\n",
       "      <th>latitude</th>\n",
       "      <th>longitude</th>\n",
       "      <th>total_population</th>\n",
       "      <th>usda_region</th>\n",
       "      <th>pop_density</th>\n",
       "      <th>cluster_label</th>\n",
       "    </tr>\n",
       "  </thead>\n",
       "  <tbody>\n",
       "    <tr>\n",
       "      <th>0</th>\n",
       "      <td>0</td>\n",
       "      <td>36083</td>\n",
       "      <td>0.008302</td>\n",
       "      <td>8936</td>\n",
       "      <td>4.8</td>\n",
       "      <td>5.1</td>\n",
       "      <td>8.1</td>\n",
       "      <td>8.5</td>\n",
       "      <td>9.5</td>\n",
       "      <td>9.8</td>\n",
       "      <td>...</td>\n",
       "      <td>Macon</td>\n",
       "      <td>87.0</td>\n",
       "      <td>NaN</td>\n",
       "      <td>NaN</td>\n",
       "      <td>32.4316</td>\n",
       "      <td>-85.6861</td>\n",
       "      <td>7316</td>\n",
       "      <td>Southeast</td>\n",
       "      <td>11.089038</td>\n",
       "      <td>37</td>\n",
       "    </tr>\n",
       "    <tr>\n",
       "      <th>1</th>\n",
       "      <td>1</td>\n",
       "      <td>35441</td>\n",
       "      <td>0.048178</td>\n",
       "      <td>1891</td>\n",
       "      <td>7.9</td>\n",
       "      <td>14.5</td>\n",
       "      <td>41.9</td>\n",
       "      <td>43.3</td>\n",
       "      <td>45.6</td>\n",
       "      <td>45.8</td>\n",
       "      <td>...</td>\n",
       "      <td>Hale</td>\n",
       "      <td>65.0</td>\n",
       "      <td>NaN</td>\n",
       "      <td>NaN</td>\n",
       "      <td>32.8553</td>\n",
       "      <td>-87.7219</td>\n",
       "      <td>972</td>\n",
       "      <td>Southeast</td>\n",
       "      <td>5.623359</td>\n",
       "      <td>3</td>\n",
       "    </tr>\n",
       "    <tr>\n",
       "      <th>2</th>\n",
       "      <td>2</td>\n",
       "      <td>35051</td>\n",
       "      <td>0.018999</td>\n",
       "      <td>4784</td>\n",
       "      <td>6.9</td>\n",
       "      <td>7.2</td>\n",
       "      <td>13.4</td>\n",
       "      <td>13.8</td>\n",
       "      <td>15.5</td>\n",
       "      <td>15.9</td>\n",
       "      <td>...</td>\n",
       "      <td>Shelby</td>\n",
       "      <td>117.0</td>\n",
       "      <td>NaN</td>\n",
       "      <td>NaN</td>\n",
       "      <td>33.1770</td>\n",
       "      <td>-86.6161</td>\n",
       "      <td>9838</td>\n",
       "      <td>Southeast</td>\n",
       "      <td>35.106068</td>\n",
       "      <td>27</td>\n",
       "    </tr>\n",
       "    <tr>\n",
       "      <th>3</th>\n",
       "      <td>3</td>\n",
       "      <td>35121</td>\n",
       "      <td>0.014148</td>\n",
       "      <td>11527</td>\n",
       "      <td>8.2</td>\n",
       "      <td>8.5</td>\n",
       "      <td>13.1</td>\n",
       "      <td>13.5</td>\n",
       "      <td>15.0</td>\n",
       "      <td>15.6</td>\n",
       "      <td>...</td>\n",
       "      <td>Blount</td>\n",
       "      <td>9.0</td>\n",
       "      <td>NaN</td>\n",
       "      <td>NaN</td>\n",
       "      <td>33.9259</td>\n",
       "      <td>-86.4741</td>\n",
       "      <td>16123</td>\n",
       "      <td>Southeast</td>\n",
       "      <td>43.255813</td>\n",
       "      <td>27</td>\n",
       "    </tr>\n",
       "    <tr>\n",
       "      <th>4</th>\n",
       "      <td>4</td>\n",
       "      <td>35058</td>\n",
       "      <td>0.017164</td>\n",
       "      <td>5868</td>\n",
       "      <td>3.4</td>\n",
       "      <td>3.6</td>\n",
       "      <td>5.3</td>\n",
       "      <td>5.4</td>\n",
       "      <td>6.2</td>\n",
       "      <td>6.4</td>\n",
       "      <td>...</td>\n",
       "      <td>Cullman</td>\n",
       "      <td>43.0</td>\n",
       "      <td>NaN</td>\n",
       "      <td>NaN</td>\n",
       "      <td>34.2098</td>\n",
       "      <td>-86.7520</td>\n",
       "      <td>8630</td>\n",
       "      <td>Southeast</td>\n",
       "      <td>48.472275</td>\n",
       "      <td>28</td>\n",
       "    </tr>\n",
       "  </tbody>\n",
       "</table>\n",
       "<p>5 rows × 22 columns</p>\n",
       "</div>"
      ],
      "text/plain": [
       "   id    zip  pct_water  count_property  pct_fs_risk_2020_5  \\\n",
       "0   0  36083   0.008302            8936                 4.8   \n",
       "1   1  35441   0.048178            1891                 7.9   \n",
       "2   2  35051   0.018999            4784                 6.9   \n",
       "3   3  35121   0.014148           11527                 8.2   \n",
       "4   4  35058   0.017164            5868                 3.4   \n",
       "\n",
       "   pct_fs_risk_2050_5  pct_fs_risk_2020_100  pct_fs_risk_2050_100  \\\n",
       "0                 5.1                   8.1                   8.5   \n",
       "1                14.5                  41.9                  43.3   \n",
       "2                 7.2                  13.4                  13.8   \n",
       "3                 8.5                  13.1                  13.5   \n",
       "4                 3.6                   5.3                   5.4   \n",
       "\n",
       "   pct_fs_risk_2020_500  pct_fs_risk_2050_500  ...   region region_code  \\\n",
       "0                   9.5                   9.8  ...    Macon        87.0   \n",
       "1                  45.6                  45.8  ...     Hale        65.0   \n",
       "2                  15.5                  15.9  ...   Shelby       117.0   \n",
       "3                  15.0                  15.6  ...   Blount         9.0   \n",
       "4                   6.2                   6.4  ...  Cullman        43.0   \n",
       "\n",
       "  region2  region2_code latitude  longitude  total_population  usda_region  \\\n",
       "0     NaN           NaN  32.4316   -85.6861              7316    Southeast   \n",
       "1     NaN           NaN  32.8553   -87.7219               972    Southeast   \n",
       "2     NaN           NaN  33.1770   -86.6161              9838    Southeast   \n",
       "3     NaN           NaN  33.9259   -86.4741             16123    Southeast   \n",
       "4     NaN           NaN  34.2098   -86.7520              8630    Southeast   \n",
       "\n",
       "   pop_density cluster_label  \n",
       "0    11.089038            37  \n",
       "1     5.623359             3  \n",
       "2    35.106068            27  \n",
       "3    43.255813            27  \n",
       "4    48.472275            28  \n",
       "\n",
       "[5 rows x 22 columns]"
      ]
     },
     "execution_count": 29,
     "metadata": {},
     "output_type": "execute_result"
    }
   ],
   "source": [
    "flood_data = pd.read_csv(\"flood_clustered_dataset.csv\", sep = ',')\n",
    "flood_data = flood_data.rename(columns={\"zipcode\": \"zip\"})\n",
    "flood_data.head()"
   ]
  },
  {
   "cell_type": "code",
   "execution_count": 60,
   "metadata": {},
   "outputs": [
    {
     "data": {
      "text/plain": [
       "id                        int64\n",
       "zip                       int64\n",
       "pct_water               float64\n",
       "count_property            int64\n",
       "pct_fs_risk_2020_5      float64\n",
       "pct_fs_risk_2050_5      float64\n",
       "pct_fs_risk_2020_100    float64\n",
       "pct_fs_risk_2050_100    float64\n",
       "pct_fs_risk_2020_500    float64\n",
       "pct_fs_risk_2050_500    float64\n",
       "place_name               object\n",
       "state_name               object\n",
       "region                   object\n",
       "region_code             float64\n",
       "region2                  object\n",
       "region2_code            float64\n",
       "latitude                float64\n",
       "longitude               float64\n",
       "total_population          int64\n",
       "usda_region              object\n",
       "pop_density             float64\n",
       "cluster_label             int64\n",
       "dtype: object"
      ]
     },
     "execution_count": 60,
     "metadata": {},
     "output_type": "execute_result"
    }
   ],
   "source": [
    "# printing flood data schema\n",
    "flood_data.dtypes"
   ]
  },
  {
   "cell_type": "code",
   "execution_count": 25,
   "metadata": {},
   "outputs": [
    {
     "name": "stdout",
     "output_type": "stream",
     "text": [
      "number of rows: 32146\n",
      "number of cols: 22\n",
      "column names: ['id', 'zipcode', 'pct_water', 'count_property', 'pct_fs_risk_2020_5', 'pct_fs_risk_2050_5', 'pct_fs_risk_2020_100', 'pct_fs_risk_2050_100', 'pct_fs_risk_2020_500', 'pct_fs_risk_2050_500', 'place_name', 'state_name', 'region', 'region_code', 'region2', 'region2_code', 'latitude', 'longitude', 'total_population', 'usda_region', 'pop_density', 'cluster_label']\n"
     ]
    }
   ],
   "source": [
    "# printing metrics for flood data\n",
    "print(\"number of rows: \" + str(flood_data.shape[0]))\n",
    "print(\"number of cols: \" + str(flood_data.shape[1]))\n",
    "print(\"column names: \" + str(list(flood_data.columns)))"
   ]
  },
  {
   "cell_type": "markdown",
   "metadata": {},
   "source": [
    "combining mitigation and flood data"
   ]
  },
  {
   "cell_type": "code",
   "execution_count": 58,
   "metadata": {},
   "outputs": [
    {
     "data": {
      "text/html": [
       "<div>\n",
       "<style scoped>\n",
       "    .dataframe tbody tr th:only-of-type {\n",
       "        vertical-align: middle;\n",
       "    }\n",
       "\n",
       "    .dataframe tbody tr th {\n",
       "        vertical-align: top;\n",
       "    }\n",
       "\n",
       "    .dataframe thead th {\n",
       "        text-align: right;\n",
       "    }\n",
       "</style>\n",
       "<table border=\"1\" class=\"dataframe\">\n",
       "  <thead>\n",
       "    <tr style=\"text-align: right;\">\n",
       "      <th></th>\n",
       "      <th>id_x</th>\n",
       "      <th>zip</th>\n",
       "      <th>pct_water</th>\n",
       "      <th>count_property</th>\n",
       "      <th>pct_fs_risk_2020_5</th>\n",
       "      <th>pct_fs_risk_2050_5</th>\n",
       "      <th>pct_fs_risk_2020_100</th>\n",
       "      <th>pct_fs_risk_2050_100</th>\n",
       "      <th>pct_fs_risk_2020_500</th>\n",
       "      <th>pct_fs_risk_2050_500</th>\n",
       "      <th>...</th>\n",
       "      <th>subgranteeTribalIndicator</th>\n",
       "      <th>id_y</th>\n",
       "      <th>projectType</th>\n",
       "      <th>projectTitle</th>\n",
       "      <th>numberOfProperties_y</th>\n",
       "      <th>numberOfFinalProperties</th>\n",
       "      <th>costSharePercentage</th>\n",
       "      <th>projectAmount</th>\n",
       "      <th>benefitCostRatio</th>\n",
       "      <th>netValueBenefits</th>\n",
       "    </tr>\n",
       "  </thead>\n",
       "  <tbody>\n",
       "    <tr>\n",
       "      <th>0</th>\n",
       "      <td>0</td>\n",
       "      <td>36083</td>\n",
       "      <td>0.008302</td>\n",
       "      <td>8936</td>\n",
       "      <td>4.8</td>\n",
       "      <td>5.1</td>\n",
       "      <td>8.1</td>\n",
       "      <td>8.5</td>\n",
       "      <td>9.5</td>\n",
       "      <td>9.8</td>\n",
       "      <td>...</td>\n",
       "      <td>No</td>\n",
       "      <td>6176dfd54f1519431d0566b2</td>\n",
       "      <td>206.1: Safe Room (Tornado and Severe Wind Shel...</td>\n",
       "      <td>NaN</td>\n",
       "      <td>46</td>\n",
       "      <td>34</td>\n",
       "      <td>0.67</td>\n",
       "      <td>200728.0</td>\n",
       "      <td>1.371</td>\n",
       "      <td>21420.0</td>\n",
       "    </tr>\n",
       "    <tr>\n",
       "      <th>1</th>\n",
       "      <td>0</td>\n",
       "      <td>36083</td>\n",
       "      <td>0.008302</td>\n",
       "      <td>8936</td>\n",
       "      <td>4.8</td>\n",
       "      <td>5.1</td>\n",
       "      <td>8.1</td>\n",
       "      <td>8.5</td>\n",
       "      <td>9.5</td>\n",
       "      <td>9.8</td>\n",
       "      <td>...</td>\n",
       "      <td>NaN</td>\n",
       "      <td>6176dfd64f1519431d057fd7</td>\n",
       "      <td>206.1: Safe Room (Tornado and Severe Wind Shel...</td>\n",
       "      <td>NaN</td>\n",
       "      <td>587</td>\n",
       "      <td>405</td>\n",
       "      <td>0.75</td>\n",
       "      <td>1804955.0</td>\n",
       "      <td>8.801</td>\n",
       "      <td>3274.0</td>\n",
       "    </tr>\n",
       "    <tr>\n",
       "      <th>2</th>\n",
       "      <td>0</td>\n",
       "      <td>36083</td>\n",
       "      <td>0.008302</td>\n",
       "      <td>8936</td>\n",
       "      <td>4.8</td>\n",
       "      <td>5.1</td>\n",
       "      <td>8.1</td>\n",
       "      <td>8.5</td>\n",
       "      <td>9.5</td>\n",
       "      <td>9.8</td>\n",
       "      <td>...</td>\n",
       "      <td>No</td>\n",
       "      <td>6176dfd54f1519431d057fb5</td>\n",
       "      <td>206.1: Safe Room (Tornado and Severe Wind Shel...</td>\n",
       "      <td>NaN</td>\n",
       "      <td>8</td>\n",
       "      <td>8</td>\n",
       "      <td>0.73</td>\n",
       "      <td>41695.0</td>\n",
       "      <td>1.371</td>\n",
       "      <td>21420.0</td>\n",
       "    </tr>\n",
       "    <tr>\n",
       "      <th>3</th>\n",
       "      <td>0</td>\n",
       "      <td>36083</td>\n",
       "      <td>0.008302</td>\n",
       "      <td>8936</td>\n",
       "      <td>4.8</td>\n",
       "      <td>5.1</td>\n",
       "      <td>8.1</td>\n",
       "      <td>8.5</td>\n",
       "      <td>9.5</td>\n",
       "      <td>9.8</td>\n",
       "      <td>...</td>\n",
       "      <td>No</td>\n",
       "      <td>6176dfdd4f1519431d06385c</td>\n",
       "      <td>206.2: Safe Room (Tornado and Severe Wind Shel...</td>\n",
       "      <td>NaN</td>\n",
       "      <td>1</td>\n",
       "      <td>1</td>\n",
       "      <td>0.75</td>\n",
       "      <td>80047.0</td>\n",
       "      <td>2.015</td>\n",
       "      <td>212674.0</td>\n",
       "    </tr>\n",
       "    <tr>\n",
       "      <th>4</th>\n",
       "      <td>1</td>\n",
       "      <td>35441</td>\n",
       "      <td>0.048178</td>\n",
       "      <td>1891</td>\n",
       "      <td>7.9</td>\n",
       "      <td>14.5</td>\n",
       "      <td>41.9</td>\n",
       "      <td>43.3</td>\n",
       "      <td>45.6</td>\n",
       "      <td>45.8</td>\n",
       "      <td>...</td>\n",
       "      <td>No</td>\n",
       "      <td>6176dfd74f1519431d059a6c</td>\n",
       "      <td>206.1: Safe Room (Tornado and Severe Wind Shel...</td>\n",
       "      <td>NaN</td>\n",
       "      <td>69</td>\n",
       "      <td>37</td>\n",
       "      <td>0.70</td>\n",
       "      <td>181966.0</td>\n",
       "      <td>1.371</td>\n",
       "      <td>21420.0</td>\n",
       "    </tr>\n",
       "  </tbody>\n",
       "</table>\n",
       "<p>5 rows × 56 columns</p>\n",
       "</div>"
      ],
      "text/plain": [
       "   id_x    zip  pct_water  count_property  pct_fs_risk_2020_5  \\\n",
       "0     0  36083   0.008302            8936                 4.8   \n",
       "1     0  36083   0.008302            8936                 4.8   \n",
       "2     0  36083   0.008302            8936                 4.8   \n",
       "3     0  36083   0.008302            8936                 4.8   \n",
       "4     1  35441   0.048178            1891                 7.9   \n",
       "\n",
       "   pct_fs_risk_2050_5  pct_fs_risk_2020_100  pct_fs_risk_2050_100  \\\n",
       "0                 5.1                   8.1                   8.5   \n",
       "1                 5.1                   8.1                   8.5   \n",
       "2                 5.1                   8.1                   8.5   \n",
       "3                 5.1                   8.1                   8.5   \n",
       "4                14.5                  41.9                  43.3   \n",
       "\n",
       "   pct_fs_risk_2020_500  pct_fs_risk_2050_500  ... subgranteeTribalIndicator  \\\n",
       "0                   9.5                   9.8  ...                        No   \n",
       "1                   9.5                   9.8  ...                       NaN   \n",
       "2                   9.5                   9.8  ...                        No   \n",
       "3                   9.5                   9.8  ...                        No   \n",
       "4                  45.6                  45.8  ...                        No   \n",
       "\n",
       "                       id_y  \\\n",
       "0  6176dfd54f1519431d0566b2   \n",
       "1  6176dfd64f1519431d057fd7   \n",
       "2  6176dfd54f1519431d057fb5   \n",
       "3  6176dfdd4f1519431d06385c   \n",
       "4  6176dfd74f1519431d059a6c   \n",
       "\n",
       "                                         projectType  projectTitle  \\\n",
       "0  206.1: Safe Room (Tornado and Severe Wind Shel...           NaN   \n",
       "1  206.1: Safe Room (Tornado and Severe Wind Shel...           NaN   \n",
       "2  206.1: Safe Room (Tornado and Severe Wind Shel...           NaN   \n",
       "3  206.2: Safe Room (Tornado and Severe Wind Shel...           NaN   \n",
       "4  206.1: Safe Room (Tornado and Severe Wind Shel...           NaN   \n",
       "\n",
       "  numberOfProperties_y  numberOfFinalProperties  costSharePercentage  \\\n",
       "0                   46                       34                 0.67   \n",
       "1                  587                      405                 0.75   \n",
       "2                    8                        8                 0.73   \n",
       "3                    1                        1                 0.75   \n",
       "4                   69                       37                 0.70   \n",
       "\n",
       "   projectAmount  benefitCostRatio netValueBenefits  \n",
       "0       200728.0             1.371          21420.0  \n",
       "1      1804955.0             8.801           3274.0  \n",
       "2        41695.0             1.371          21420.0  \n",
       "3        80047.0             2.015         212674.0  \n",
       "4       181966.0             1.371          21420.0  \n",
       "\n",
       "[5 rows x 56 columns]"
      ]
     },
     "execution_count": 58,
     "metadata": {},
     "output_type": "execute_result"
    }
   ],
   "source": [
    "# combining mitigation and flood data\n",
    "mitigion_and_flood_data = flood_data.merge(mitigation_data, how = 'inner', on = 'zip')\n",
    "mitigion_and_flood_data.head()"
   ]
  },
  {
   "cell_type": "markdown",
   "metadata": {},
   "source": [
    "Define functions"
   ]
  },
  {
   "cell_type": "code",
   "execution_count": 3,
   "metadata": {},
   "outputs": [],
   "source": [
    "#list of zipcodes (clusters) will be determined by Li and Daniel\n",
    "def filter_zip(lst, data):\n",
    "    '''This function takes in a list of zipcodes(strings) with similar natural disaster risks\n",
    "    and returns a data frame with mitigation information for those specified areas'''\n",
    "    filt = data['zip'].isin(lst)\n",
    "    return data[filt]"
   ]
  },
  {
   "cell_type": "code",
   "execution_count": 4,
   "metadata": {},
   "outputs": [],
   "source": [
    "#test function\n",
    "lst = ['32503','38863']\n",
    "test = filter_zip(lst, data)"
   ]
  },
  {
   "cell_type": "markdown",
   "metadata": {},
   "source": [
    "Explore data"
   ]
  },
  {
   "cell_type": "code",
   "execution_count": 5,
   "metadata": {},
   "outputs": [
    {
     "data": {
      "image/png": "[encoded data removed]",
      "text/plain": [
       "<Figure size 432x288 with 1 Axes>"
      ]
     },
     "metadata": {
      "needs_background": "light"
     },
     "output_type": "display_data"
    }
   ],
   "source": [
    "#distribution of money paid to each property in the selected area\n",
    "ax = sns.histplot(data = test, x = 'actualAmountPaid', color = 'green')"
   ]
  },
  {
   "cell_type": "code",
   "execution_count": 6,
   "metadata": {},
   "outputs": [
    {
     "data": {
      "text/plain": [
       "(0.9746446566753605, 0.0)"
      ]
     },
     "execution_count": 6,
     "metadata": {},
     "output_type": "execute_result"
    },
    {
     "data": {
      "image/png": "[encoded data removed]",
      "text/plain": [
       "<Figure size 432x288 with 1 Axes>"
      ]
     },
     "metadata": {
      "needs_background": "light"
     },
     "output_type": "display_data"
    }
   ],
   "source": [
    "#correlation between number of properties and cost of project\n",
    "ax = sns.scatterplot(x=\"numberOfFinalProperties\", y=\"projectAmount\", data=test, hue = 'zip')\n",
    "ax.set_xscale('log')\n",
    "ax.set_yscale('log')\n",
    "stats.pearsonr(test['numberOfFinalProperties'], test['projectAmount'])"
   ]
  },
  {
   "cell_type": "code",
   "execution_count": 10,
   "metadata": {},
   "outputs": [
    {
     "data": {
      "image/png": "[encoded data removed]",
      "text/plain": [
       "<Figure size 432x432 with 3 Axes>"
      ]
     },
     "metadata": {
      "needs_background": "light"
     },
     "output_type": "display_data"
    }
   ],
   "source": [
    "ax = sns.jointplot(x='actualAmountPaid', y=\"projectAmount\", data=test, hue = 'zip')"
   ]
  },
  {
   "cell_type": "code",
   "execution_count": 7,
   "metadata": {},
   "outputs": [
    {
     "data": {
      "text/plain": [
       "<AxesSubplot:>"
      ]
     },
     "execution_count": 7,
     "metadata": {},
     "output_type": "execute_result"
    },
    {
     "data": {
      "image/png": "[encoded data removed]",
      "text/plain": [
       "<Figure size 432x288 with 1 Axes>"
      ]
     },
     "metadata": {
      "needs_background": "light"
     },
     "output_type": "display_data"
    }
   ],
   "source": [
    "test['propertyAction'].value_counts().head(5).plot(kind='barh', colormap = 'Pastel2')"
   ]
  },
  {
   "cell_type": "code",
   "execution_count": 8,
   "metadata": {},
   "outputs": [
    {
     "data": {
      "text/plain": [
       "<AxesSubplot:>"
      ]
     },
     "execution_count": 8,
     "metadata": {},
     "output_type": "execute_result"
    },
    {
     "data": {
      "image/png": "[encoded data removed]",
      "text/plain": [
       "<Figure size 432x288 with 1 Axes>"
      ]
     },
     "metadata": {
      "needs_background": "light"
     },
     "output_type": "display_data"
    }
   ],
   "source": [
    "test['structureType'].value_counts().head(5).plot(kind='barh', colormap = 'Pastel1')"
   ]
  },
  {
   "cell_type": "code",
   "execution_count": 9,
   "metadata": {},
   "outputs": [
    {
     "data": {
      "text/plain": [
       "<AxesSubplot:>"
      ]
     },
     "execution_count": 9,
     "metadata": {},
     "output_type": "execute_result"
    },
    {
     "data": {
      "image/png": "[encoded data removed]",
      "text/plain": [
       "<Figure size 432x288 with 1 Axes>"
      ]
     },
     "metadata": {
      "needs_background": "light"
     },
     "output_type": "display_data"
    }
   ],
   "source": [
    "test['typeOfResidency'].value_counts().head(5).plot(kind='barh', color = 'blue')"
   ]
  },
  {
   "cell_type": "code",
   "execution_count": null,
   "metadata": {},
   "outputs": [],
   "source": []
  },
  {
   "cell_type": "code",
   "execution_count": null,
   "metadata": {},
   "outputs": [],
   "source": []
  }
 ],
 "metadata": {
  "kernelspec": {
   "display_name": "Python 3",
   "language": "python",
   "name": "python3"
  },
  "language_info": {
   "codemirror_mode": {
    "name": "ipython",
    "version": 3
   },
   "file_extension": ".py",
   "mimetype": "text/x-python",
   "name": "python",
   "nbconvert_exporter": "python",
   "pygments_lexer": "ipython3",
   "version": "3.6.9"
  }
 },
 "nbformat": 4,
 "nbformat_minor": 5
}
